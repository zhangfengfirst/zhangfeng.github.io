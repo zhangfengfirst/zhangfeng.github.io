{
 "cells": [
  {
   "cell_type": "markdown",
   "metadata": {},
   "source": [
    "我的第一个数据科学项目--《足球运动员身价估计》  \n",
    "任务类型：回归  \n",
    "背景介绍：每个足球运动员在转会市场都有自己的价码。本次数据练习的目的是根据球员的各项信息和能力值来预测球员在转会市场上的价值。  \n",
    "数据来源：FIFA2018  \n",
    "数据集：  \n",
    "  - tran.csv 训练集\n",
    "  - test.csv 预测集\n",
    "  - sample_submit.csv 提交示例  \n",
    "  训练集有10441条样本，预测集有7000条样本。每条样本代表一位球员，数据中每个球员有63个属性。  \n",
    "\n",
    "评价方法：  \n",
    "  评价标准为MAE（Mean Absolute Error）。若真实值为$y=(y_1,y_2,...,y_n)$，模型的预测值为$\\hat y=(\\hat y_1,\\hat y_2,...,\\hat y_n)$，那么该模型的MAE计算公式为：$$MAE=\\frac {\\sum_{i=1}^n|y_i-\\hat y_i|}{n}$$  \n",
    "MAE越小，说明模型预测越准确。  \n",
    "变量说明：  "
   ]
  },
  {
   "cell_type": "markdown",
   "metadata": {},
   "source": [
    "| 变量名 | 解释 |\n",
    "| --|--|"
   ]
  },
  {
   "cell_type": "markdown",
   "metadata": {},
   "source": [
    "# 一、探索数据"
   ]
  },
  {
   "cell_type": "code",
   "execution_count": 1,
   "metadata": {},
   "outputs": [],
   "source": [
    "import pandas as pd"
   ]
  },
  {
   "cell_type": "code",
   "execution_count": 5,
   "metadata": {},
   "outputs": [],
   "source": [
    "train_data = pd.read_csv('/Users/zhangfeng/Documents/ML/sofasofa/play_value/data/train.csv')"
   ]
  },
  {
   "cell_type": "markdown",
   "metadata": {},
   "source": [
    "## 1、预览数据"
   ]
  },
  {
   "cell_type": "markdown",
   "metadata": {},
   "source": [
    "### 1.1 数据缺失值情况\n",
    "容易看出来，数据集存在的缺失值是由于门将位置的球员不具备的特征造成的，可以忽略。"
   ]
  },
  {
   "cell_type": "code",
   "execution_count": 6,
   "metadata": {},
   "outputs": [
    {
     "data": {
      "text/html": [
       "<div>\n",
       "<style scoped>\n",
       "    .dataframe tbody tr th:only-of-type {\n",
       "        vertical-align: middle;\n",
       "    }\n",
       "\n",
       "    .dataframe tbody tr th {\n",
       "        vertical-align: top;\n",
       "    }\n",
       "\n",
       "    .dataframe thead th {\n",
       "        text-align: right;\n",
       "    }\n",
       "</style>\n",
       "<table border=\"1\" class=\"dataframe\">\n",
       "  <thead>\n",
       "    <tr style=\"text-align: right;\">\n",
       "      <th></th>\n",
       "      <th>id</th>\n",
       "      <th>club</th>\n",
       "      <th>league</th>\n",
       "      <th>birth_date</th>\n",
       "      <th>height_cm</th>\n",
       "      <th>weight_kg</th>\n",
       "      <th>nationality</th>\n",
       "      <th>potential</th>\n",
       "      <th>pac</th>\n",
       "      <th>sho</th>\n",
       "      <th>...</th>\n",
       "      <th>st</th>\n",
       "      <th>lw</th>\n",
       "      <th>cf</th>\n",
       "      <th>cam</th>\n",
       "      <th>cm</th>\n",
       "      <th>cdm</th>\n",
       "      <th>cb</th>\n",
       "      <th>lb</th>\n",
       "      <th>gk</th>\n",
       "      <th>y</th>\n",
       "    </tr>\n",
       "  </thead>\n",
       "  <tbody>\n",
       "    <tr>\n",
       "      <th>0</th>\n",
       "      <td>0</td>\n",
       "      <td>293</td>\n",
       "      <td>25</td>\n",
       "      <td>10/4/96</td>\n",
       "      <td>177</td>\n",
       "      <td>72</td>\n",
       "      <td>78</td>\n",
       "      <td>73</td>\n",
       "      <td>65</td>\n",
       "      <td>60</td>\n",
       "      <td>...</td>\n",
       "      <td>63.0</td>\n",
       "      <td>64.0</td>\n",
       "      <td>64.0</td>\n",
       "      <td>64.0</td>\n",
       "      <td>63.0</td>\n",
       "      <td>57.0</td>\n",
       "      <td>53.0</td>\n",
       "      <td>56.0</td>\n",
       "      <td>NaN</td>\n",
       "      <td>70.0</td>\n",
       "    </tr>\n",
       "    <tr>\n",
       "      <th>1</th>\n",
       "      <td>1</td>\n",
       "      <td>258</td>\n",
       "      <td>24</td>\n",
       "      <td>9/21/84</td>\n",
       "      <td>178</td>\n",
       "      <td>70</td>\n",
       "      <td>51</td>\n",
       "      <td>62</td>\n",
       "      <td>56</td>\n",
       "      <td>39</td>\n",
       "      <td>...</td>\n",
       "      <td>52.0</td>\n",
       "      <td>60.0</td>\n",
       "      <td>57.0</td>\n",
       "      <td>59.0</td>\n",
       "      <td>61.0</td>\n",
       "      <td>64.0</td>\n",
       "      <td>61.0</td>\n",
       "      <td>64.0</td>\n",
       "      <td>NaN</td>\n",
       "      <td>24.0</td>\n",
       "    </tr>\n",
       "    <tr>\n",
       "      <th>2</th>\n",
       "      <td>2</td>\n",
       "      <td>112</td>\n",
       "      <td>3</td>\n",
       "      <td>6/8/99</td>\n",
       "      <td>177</td>\n",
       "      <td>69</td>\n",
       "      <td>52</td>\n",
       "      <td>68</td>\n",
       "      <td>68</td>\n",
       "      <td>57</td>\n",
       "      <td>...</td>\n",
       "      <td>56.0</td>\n",
       "      <td>54.0</td>\n",
       "      <td>55.0</td>\n",
       "      <td>53.0</td>\n",
       "      <td>45.0</td>\n",
       "      <td>34.0</td>\n",
       "      <td>31.0</td>\n",
       "      <td>36.0</td>\n",
       "      <td>NaN</td>\n",
       "      <td>17.0</td>\n",
       "    </tr>\n",
       "    <tr>\n",
       "      <th>3</th>\n",
       "      <td>3</td>\n",
       "      <td>604</td>\n",
       "      <td>9</td>\n",
       "      <td>7/25/88</td>\n",
       "      <td>181</td>\n",
       "      <td>81</td>\n",
       "      <td>54</td>\n",
       "      <td>81</td>\n",
       "      <td>76</td>\n",
       "      <td>74</td>\n",
       "      <td>...</td>\n",
       "      <td>77.0</td>\n",
       "      <td>76.0</td>\n",
       "      <td>77.0</td>\n",
       "      <td>77.0</td>\n",
       "      <td>79.0</td>\n",
       "      <td>78.0</td>\n",
       "      <td>77.0</td>\n",
       "      <td>78.0</td>\n",
       "      <td>NaN</td>\n",
       "      <td>1750.0</td>\n",
       "    </tr>\n",
       "    <tr>\n",
       "      <th>4</th>\n",
       "      <td>4</td>\n",
       "      <td>80</td>\n",
       "      <td>37</td>\n",
       "      <td>8/4/80</td>\n",
       "      <td>179</td>\n",
       "      <td>75</td>\n",
       "      <td>96</td>\n",
       "      <td>72</td>\n",
       "      <td>40</td>\n",
       "      <td>62</td>\n",
       "      <td>...</td>\n",
       "      <td>62.0</td>\n",
       "      <td>66.0</td>\n",
       "      <td>65.0</td>\n",
       "      <td>68.0</td>\n",
       "      <td>71.0</td>\n",
       "      <td>70.0</td>\n",
       "      <td>66.0</td>\n",
       "      <td>64.0</td>\n",
       "      <td>NaN</td>\n",
       "      <td>97.5</td>\n",
       "    </tr>\n",
       "  </tbody>\n",
       "</table>\n",
       "<p>5 rows × 65 columns</p>\n",
       "</div>"
      ],
      "text/plain": [
       "   id  club  league birth_date  height_cm  weight_kg  nationality  potential  \\\n",
       "0   0   293      25    10/4/96        177         72           78         73   \n",
       "1   1   258      24    9/21/84        178         70           51         62   \n",
       "2   2   112       3     6/8/99        177         69           52         68   \n",
       "3   3   604       9    7/25/88        181         81           54         81   \n",
       "4   4    80      37     8/4/80        179         75           96         72   \n",
       "\n",
       "   pac  sho   ...      st    lw    cf   cam    cm   cdm    cb    lb  gk  \\\n",
       "0   65   60   ...    63.0  64.0  64.0  64.0  63.0  57.0  53.0  56.0 NaN   \n",
       "1   56   39   ...    52.0  60.0  57.0  59.0  61.0  64.0  61.0  64.0 NaN   \n",
       "2   68   57   ...    56.0  54.0  55.0  53.0  45.0  34.0  31.0  36.0 NaN   \n",
       "3   76   74   ...    77.0  76.0  77.0  77.0  79.0  78.0  77.0  78.0 NaN   \n",
       "4   40   62   ...    62.0  66.0  65.0  68.0  71.0  70.0  66.0  64.0 NaN   \n",
       "\n",
       "        y  \n",
       "0    70.0  \n",
       "1    24.0  \n",
       "2    17.0  \n",
       "3  1750.0  \n",
       "4    97.5  \n",
       "\n",
       "[5 rows x 65 columns]"
      ]
     },
     "execution_count": 6,
     "metadata": {},
     "output_type": "execute_result"
    }
   ],
   "source": [
    "train_data.head()"
   ]
  },
  {
   "cell_type": "code",
   "execution_count": 9,
   "metadata": {},
   "outputs": [],
   "source": [
    "#数据集缺失值情况\n",
    "##数据集非空值\n",
    "train_data.count()\n",
    "##数据集空值情况\n",
    "train_data.isnull().sum(); ##空值为门将位置所不具备的球员能力值"
   ]
  },
  {
   "cell_type": "code",
   "execution_count": 10,
   "metadata": {},
   "outputs": [
    {
     "name": "stdout",
     "output_type": "stream",
     "text": [
      "/Users/zhangfeng\n"
     ]
    }
   ],
   "source": [
    "import os\n",
    "\n",
    "print(os.getcwd()) # 打印当前工作目录"
   ]
  },
  {
   "cell_type": "code",
   "execution_count": null,
   "metadata": {},
   "outputs": [],
   "source": []
  }
 ],
 "metadata": {
  "kernelspec": {
   "display_name": "Python 3",
   "language": "python",
   "name": "python3"
  },
  "language_info": {
   "codemirror_mode": {
    "name": "ipython",
    "version": 3
   },
   "file_extension": ".py",
   "mimetype": "text/x-python",
   "name": "python",
   "nbconvert_exporter": "python",
   "pygments_lexer": "ipython3",
   "version": "3.7.0"
  }
 },
 "nbformat": 4,
 "nbformat_minor": 2
}
