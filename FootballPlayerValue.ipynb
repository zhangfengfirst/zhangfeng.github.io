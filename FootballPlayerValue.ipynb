{
 "cells": [
  {
   "cell_type": "markdown",
   "metadata": {},
   "source": [
    "我的第一个数据科学项目--《足球运动员身价估计》  \n",
    "任务类型：回归  \n",
    "背景介绍：每个足球运动员在转会市场都有自己的价码。本次数据练习的目的是根据球员的各项信息和能力值来预测球员在转会市场上的价值。  \n",
    "数据来源：FIFA2018  \n",
    "数据集：  \n",
    "  - tran.csv 训练集\n",
    "  - test.csv 预测集\n",
    "  - sample_submit.csv 提交示例  \n",
    "  训练集有10441条样本，预测集有7000条样本。每条样本代表一位球员，数据中每个球员有63个属性。  \n",
    "\n",
    "评价方法：  \n",
    "  评价标准为MAE（Mean Absolute Error）。若真实值为$y=(y_1,y_2,...,y_n)$，模型的预测值为$\\hat y=(\\hat y_1,\\hat y_2,...,\\hat y_n)$，那么该模型的MAE计算公式为：$$MAE=\\frac {\\sum_{i=1}^n|y_i-\\hat y_i|}{n}$$  \n",
    "MAE越小，说明模型预测越准确。  \n",
    "变量说明：  "
   ]
  },
  {
   "cell_type": "markdown",
   "metadata": {},
   "source": [
    "| 变量名 | 解释 |\n",
    "|:----|:----|\n",
    "|id|行编号，没有实际意义|\n",
    "|club|\t该球员所属的俱乐部。该信息已经被编码。\n",
    "|league|\t该球员所在的联赛。已被编码。\n",
    "|birth_date|\t生日。格式为月/日/年。\n",
    "|height_cm|\t身高（厘米）\n",
    "|weight_kg|\t体重（公斤）\n",
    "|nationality|\t国籍。已被编码。\n",
    "|potential|\t球员的潜力。数值变量。\n",
    "|pac|\t球员速度。数值变量。\n",
    "|sho|\t射门（能力值）。数值变量。\n",
    "|pas|\t传球（能力值）。数值变量。\n",
    "|dri|\t带球（能力值）。数值变量。\n",
    "|def|\t防守（能力值）。数值变量。\n",
    "|phy|\t身体对抗（能力值）。数值变量。\n",
    "|international_reputation|\t国际知名度。数值变量。\n",
    "|skill_moves|\t技巧动作。数值变量。\n",
    "|weak_foot|\t非惯用脚的能力值。数值变量。\n",
    "|work_rate_att|\t球员进攻的倾向。分类变量，Low, Medium, High。\n",
    "|work_rate_def|\t球员防守的倾向。分类变量，Low, Medium, High。\n",
    "|preferred_foot|\t惯用脚。1表示右脚、2表示左脚。\n",
    "|crossing|\t传中（能力值）。数值变量。\n",
    "|finishing|\t完成射门（能力值）。数值变量。\n",
    "|heading_accuracy|\t头球精度（能力值）。数值变量。\n",
    "|short_passing|\t短传（能力值）。数值变量。\n",
    "|volleys|\t凌空球（能力值）。数值变量。\n",
    "|dribbling|\t盘带（能力值）。数值变量。\n",
    "|curve|\t弧线（能力值）。数值变量。\n",
    "|free_kick_accuracy|\t定位球精度（能力值）。数值变量。\n",
    "|long_passing|\t长传（能力值）。数值变量。\n",
    "|ball_control|\t控球（能力值）。数值变量。\n",
    "|acceleration|\t加速度（能力值）。数值变量。\n",
    "|sprint_speed|\t冲刺速度（能力值）。数值变量。\n",
    "|agility|\t灵活性（能力值）。数值变量。\n",
    "|reactions|\t反应（能力值）。数值变量。\n",
    "|balance|\t身体协调（能力值）。数值变量。\n",
    "|shot_power|\t射门力量（能力值）。数值变量。\n",
    "|jumping|\t弹跳（能力值）。数值变量。\n",
    "|stamina|\t体能（能力值）。数值变量。\n",
    "|strength|\t力量（能力值）。数值变量。\n",
    "|long_shots|\t远射（能力值）。数值变量。\n",
    "|aggression|\t侵略性（能力值）。数值变量。\n",
    "|interceptions|\t拦截（能力值）。数值变量。\n",
    "|positioning|\t位置感（能力值）。数值变量。\n",
    "|vision|\t视野（能力值）。数值变量。\n",
    "|penalties|\t罚点球（能力值）。数值变量。\n",
    "|marking|\t卡位（能力值）。数值变量。\n",
    "|standing_tackle|\t断球（能力值）。数值变量。\n",
    "|sliding_tackle|\t铲球（能力值）。数值变量。\n",
    "|gk_diving|\t门将扑救（能力值）。数值变量。\n",
    "|gk_handling|\t门将控球（能力值）。数值变量。\n",
    "|gk_kicking|\t门将开球（能力值）。数值变量。\n",
    "|gk_positioning|\t门将位置感（能力值）。数值变量。\n",
    "|gk_reflexes|\t门将反应（能力值）。数值变量。\n",
    "|rw|\t球员在右边锋位置的能力值。数值变量。\n",
    "|rb|\t球员在右后卫位置的能力值。数值变量。\n",
    "|st|\t球员在射手位置的能力值。数值变量。\n",
    "|lw|\t球员在左边锋位置的能力值。数值变量。\n",
    "|cf|\t球员在锋线位置的能力值。数值变量。\n",
    "|cam|\t球员在前腰位置的能力值。数值变量。\n",
    "|cm|\t球员在中场位置的能力值。数值变量。\n",
    "|cdm|\t球员在后腰位置的能力值。数值变量。\n",
    "|cb|\t球员在中后卫的能力值。数值变量。\n",
    "|lb|\t球员在左后卫置的能力值。数值变量。\n",
    "|gk|\t球员在守门员的能力值。数值变量。\n",
    "|y|\t该球员的市场价值（单位为万欧元）。这是要被预测的数值。"
   ]
  },
  {
   "cell_type": "markdown",
   "metadata": {},
   "source": [
    "# 一、探索数据"
   ]
  },
  {
   "cell_type": "code",
   "execution_count": 55,
   "metadata": {},
   "outputs": [],
   "source": [
    "import pandas as pd\n",
    "import numpy as np\n",
    "from datetime import date\n",
    "\n",
    "# 用来绘图的，封装了matplot\n",
    "# 要注意的是一旦导入了seaborn，\n",
    "# matplotlib的默认作图风格就会被覆盖成seaborn的格式\n",
    "import seaborn as sns       \n",
    "\n",
    "from scipy import stats\n",
    "from scipy.stats import  norm\n",
    "from sklearn.preprocessing import StandardScaler\n",
    "import warnings\n",
    "warnings.filterwarnings('ignore')\n",
    "%matplotlib inline  \n",
    "# 为了在jupyter notebook里作图，需要用到这个命令"
   ]
  },
  {
   "cell_type": "code",
   "execution_count": 19,
   "metadata": {},
   "outputs": [],
   "source": [
    "data_train = pd.read_csv('/Users/zhangfeng/Documents/ML/sofasofa/play_value/data/train.csv')"
   ]
  },
  {
   "cell_type": "markdown",
   "metadata": {},
   "source": [
    "## 1、预览数据"
   ]
  },
  {
   "cell_type": "markdown",
   "metadata": {},
   "source": [
    "### 1.1 数据缺失值情况\n",
    "容易看出来，数据集存在的缺失值是由于门将位置的球员不具备的特征造成的，可以忽略。"
   ]
  },
  {
   "cell_type": "code",
   "execution_count": 6,
   "metadata": {},
   "outputs": [
    {
     "data": {
      "text/html": [
       "<div>\n",
       "<style scoped>\n",
       "    .dataframe tbody tr th:only-of-type {\n",
       "        vertical-align: middle;\n",
       "    }\n",
       "\n",
       "    .dataframe tbody tr th {\n",
       "        vertical-align: top;\n",
       "    }\n",
       "\n",
       "    .dataframe thead th {\n",
       "        text-align: right;\n",
       "    }\n",
       "</style>\n",
       "<table border=\"1\" class=\"dataframe\">\n",
       "  <thead>\n",
       "    <tr style=\"text-align: right;\">\n",
       "      <th></th>\n",
       "      <th>id</th>\n",
       "      <th>club</th>\n",
       "      <th>league</th>\n",
       "      <th>birth_date</th>\n",
       "      <th>height_cm</th>\n",
       "      <th>weight_kg</th>\n",
       "      <th>nationality</th>\n",
       "      <th>potential</th>\n",
       "      <th>pac</th>\n",
       "      <th>sho</th>\n",
       "      <th>...</th>\n",
       "      <th>st</th>\n",
       "      <th>lw</th>\n",
       "      <th>cf</th>\n",
       "      <th>cam</th>\n",
       "      <th>cm</th>\n",
       "      <th>cdm</th>\n",
       "      <th>cb</th>\n",
       "      <th>lb</th>\n",
       "      <th>gk</th>\n",
       "      <th>y</th>\n",
       "    </tr>\n",
       "  </thead>\n",
       "  <tbody>\n",
       "    <tr>\n",
       "      <th>0</th>\n",
       "      <td>0</td>\n",
       "      <td>293</td>\n",
       "      <td>25</td>\n",
       "      <td>10/4/96</td>\n",
       "      <td>177</td>\n",
       "      <td>72</td>\n",
       "      <td>78</td>\n",
       "      <td>73</td>\n",
       "      <td>65</td>\n",
       "      <td>60</td>\n",
       "      <td>...</td>\n",
       "      <td>63.0</td>\n",
       "      <td>64.0</td>\n",
       "      <td>64.0</td>\n",
       "      <td>64.0</td>\n",
       "      <td>63.0</td>\n",
       "      <td>57.0</td>\n",
       "      <td>53.0</td>\n",
       "      <td>56.0</td>\n",
       "      <td>NaN</td>\n",
       "      <td>70.0</td>\n",
       "    </tr>\n",
       "    <tr>\n",
       "      <th>1</th>\n",
       "      <td>1</td>\n",
       "      <td>258</td>\n",
       "      <td>24</td>\n",
       "      <td>9/21/84</td>\n",
       "      <td>178</td>\n",
       "      <td>70</td>\n",
       "      <td>51</td>\n",
       "      <td>62</td>\n",
       "      <td>56</td>\n",
       "      <td>39</td>\n",
       "      <td>...</td>\n",
       "      <td>52.0</td>\n",
       "      <td>60.0</td>\n",
       "      <td>57.0</td>\n",
       "      <td>59.0</td>\n",
       "      <td>61.0</td>\n",
       "      <td>64.0</td>\n",
       "      <td>61.0</td>\n",
       "      <td>64.0</td>\n",
       "      <td>NaN</td>\n",
       "      <td>24.0</td>\n",
       "    </tr>\n",
       "    <tr>\n",
       "      <th>2</th>\n",
       "      <td>2</td>\n",
       "      <td>112</td>\n",
       "      <td>3</td>\n",
       "      <td>6/8/99</td>\n",
       "      <td>177</td>\n",
       "      <td>69</td>\n",
       "      <td>52</td>\n",
       "      <td>68</td>\n",
       "      <td>68</td>\n",
       "      <td>57</td>\n",
       "      <td>...</td>\n",
       "      <td>56.0</td>\n",
       "      <td>54.0</td>\n",
       "      <td>55.0</td>\n",
       "      <td>53.0</td>\n",
       "      <td>45.0</td>\n",
       "      <td>34.0</td>\n",
       "      <td>31.0</td>\n",
       "      <td>36.0</td>\n",
       "      <td>NaN</td>\n",
       "      <td>17.0</td>\n",
       "    </tr>\n",
       "    <tr>\n",
       "      <th>3</th>\n",
       "      <td>3</td>\n",
       "      <td>604</td>\n",
       "      <td>9</td>\n",
       "      <td>7/25/88</td>\n",
       "      <td>181</td>\n",
       "      <td>81</td>\n",
       "      <td>54</td>\n",
       "      <td>81</td>\n",
       "      <td>76</td>\n",
       "      <td>74</td>\n",
       "      <td>...</td>\n",
       "      <td>77.0</td>\n",
       "      <td>76.0</td>\n",
       "      <td>77.0</td>\n",
       "      <td>77.0</td>\n",
       "      <td>79.0</td>\n",
       "      <td>78.0</td>\n",
       "      <td>77.0</td>\n",
       "      <td>78.0</td>\n",
       "      <td>NaN</td>\n",
       "      <td>1750.0</td>\n",
       "    </tr>\n",
       "    <tr>\n",
       "      <th>4</th>\n",
       "      <td>4</td>\n",
       "      <td>80</td>\n",
       "      <td>37</td>\n",
       "      <td>8/4/80</td>\n",
       "      <td>179</td>\n",
       "      <td>75</td>\n",
       "      <td>96</td>\n",
       "      <td>72</td>\n",
       "      <td>40</td>\n",
       "      <td>62</td>\n",
       "      <td>...</td>\n",
       "      <td>62.0</td>\n",
       "      <td>66.0</td>\n",
       "      <td>65.0</td>\n",
       "      <td>68.0</td>\n",
       "      <td>71.0</td>\n",
       "      <td>70.0</td>\n",
       "      <td>66.0</td>\n",
       "      <td>64.0</td>\n",
       "      <td>NaN</td>\n",
       "      <td>97.5</td>\n",
       "    </tr>\n",
       "  </tbody>\n",
       "</table>\n",
       "<p>5 rows × 65 columns</p>\n",
       "</div>"
      ],
      "text/plain": [
       "   id  club  league birth_date  height_cm  weight_kg  nationality  potential  \\\n",
       "0   0   293      25    10/4/96        177         72           78         73   \n",
       "1   1   258      24    9/21/84        178         70           51         62   \n",
       "2   2   112       3     6/8/99        177         69           52         68   \n",
       "3   3   604       9    7/25/88        181         81           54         81   \n",
       "4   4    80      37     8/4/80        179         75           96         72   \n",
       "\n",
       "   pac  sho   ...      st    lw    cf   cam    cm   cdm    cb    lb  gk  \\\n",
       "0   65   60   ...    63.0  64.0  64.0  64.0  63.0  57.0  53.0  56.0 NaN   \n",
       "1   56   39   ...    52.0  60.0  57.0  59.0  61.0  64.0  61.0  64.0 NaN   \n",
       "2   68   57   ...    56.0  54.0  55.0  53.0  45.0  34.0  31.0  36.0 NaN   \n",
       "3   76   74   ...    77.0  76.0  77.0  77.0  79.0  78.0  77.0  78.0 NaN   \n",
       "4   40   62   ...    62.0  66.0  65.0  68.0  71.0  70.0  66.0  64.0 NaN   \n",
       "\n",
       "        y  \n",
       "0    70.0  \n",
       "1    24.0  \n",
       "2    17.0  \n",
       "3  1750.0  \n",
       "4    97.5  \n",
       "\n",
       "[5 rows x 65 columns]"
      ]
     },
     "execution_count": 6,
     "metadata": {},
     "output_type": "execute_result"
    }
   ],
   "source": [
    "train_data.head()"
   ]
  },
  {
   "cell_type": "code",
   "execution_count": 20,
   "metadata": {},
   "outputs": [],
   "source": [
    "#数据集缺失值情况\n",
    "##数据集非空值\n",
    "data_train.count()\n",
    "##数据集空值情况\n",
    "data_train.isnull().sum(); ##空值为门将位置所不具备的球员能力值"
   ]
  },
  {
   "cell_type": "markdown",
   "metadata": {},
   "source": [
    "### 1.2 数据分布"
   ]
  },
  {
   "cell_type": "code",
   "execution_count": 52,
   "metadata": {},
   "outputs": [],
   "source": [
    "#处理数据\n",
    "##将生日转换为年龄\n",
    "today = date(2018, 4, 15)\n",
    "data_train['birth_date'] = pd.to_datetime(data_train['birth_date'])\n",
    "data_train['age'] = (pd.to_datetime(today) - data_train['birth_date']).apply(lambda x: x.days) / 365.\n",
    "\n",
    "#身高体重转换为BMI，身体质量指数\n",
    "data_train['BMI'] = 10000. * data_train['weight_kg'] / (data_train['height_cm'] ** 2)\n",
    "\n",
    "#获取球员最佳位置及其能力值\n",
    "col=['rw','rb','st','lw','cf','cam','cm','cdm','cb','lb','gk']\n",
    "#行最大值，获取足球运动员位置能力值最大的数\n",
    "data_train['best_pos_score'] = data_train[col].max(axis=1)\n",
    "#最大能力值对应位置\n",
    "data_train['best_pos'] = data_train[col].idxmax(axis=1)"
   ]
  },
  {
   "cell_type": "code",
   "execution_count": 54,
   "metadata": {},
   "outputs": [
    {
     "data": {
      "text/plain": [
       "count    10441.000000\n",
       "mean       229.288765\n",
       "std        434.109564\n",
       "min          6.000000\n",
       "25%         35.000000\n",
       "50%         72.500000\n",
       "75%        220.000000\n",
       "max       4850.000000\n",
       "Name: y, dtype: float64"
      ]
     },
     "execution_count": 54,
     "metadata": {},
     "output_type": "execute_result"
    }
   ],
   "source": [
    "#标签变量数据分布\n",
    "data_train['y'].describe()"
   ]
  },
  {
   "cell_type": "markdown",
   "metadata": {},
   "source": [
    "### 1.3 数据分布可视化"
   ]
  },
  {
   "cell_type": "markdown",
   "metadata": {},
   "source": [
    "#### 1.3.1 单变量分布"
   ]
  },
  {
   "cell_type": "code",
   "execution_count": 56,
   "metadata": {},
   "outputs": [
    {
     "data": {
      "text/plain": [
       "<matplotlib.axes._subplots.AxesSubplot at 0x1a1c7dc828>"
      ]
     },
     "execution_count": 56,
     "metadata": {},
     "output_type": "execute_result"
    },
    {
     "data": {
      "image/png": "[encoded data removed]",
      "text/plain": [
       "<Figure size 432x288 with 1 Axes>"
      ]
     },
     "metadata": {
      "needs_background": "light"
     },
     "output_type": "display_data"
    }
   ],
   "source": [
    "#标签变量直方图\n",
    "sns.distplot(data_train['y'])"
   ]
  },
  {
   "cell_type": "markdown",
   "metadata": {},
   "source": [
    "通过以上直方图容易得到，y变量是一个偏斜分布，后续考虑转换为正态分布。"
   ]
  },
  {
   "cell_type": "markdown",
   "metadata": {},
   "source": [
    "#### 1.3.2 多变量数据分布"
   ]
  },
  {
   "cell_type": "markdown",
   "metadata": {},
   "source": [
    "a.位置与y变量的箱型图分布"
   ]
  },
  {
   "cell_type": "code",
   "execution_count": 70,
   "metadata": {},
   "outputs": [
    {
     "data": {
      "image/png": "[encoded data removed]",
      "text/plain": [
       "<Figure size 432x288 with 1 Axes>"
      ]
     },
     "metadata": {
      "needs_background": "light"
     },
     "output_type": "display_data"
    }
   ],
   "source": [
    "# best_pos 箱型图\n",
    "var = 'best_pos'\n",
    "data = pd.concat([data_train['y'], data_train[var]], axis=1)\n",
    "fig = sns.boxplot(x=var, y=\"y\", data=data)\n",
    "fig.axis(ymin=0, ymax=1000);"
   ]
  },
  {
   "cell_type": "markdown",
   "metadata": {},
   "source": [
    "箱型图是在1977年由美国的统计学家约翰·图基(John Tukey)发明的。它由五个数值点组成：最小值(min)，下四分位数(Q1)，中位数(median)，上四分位数(Q3)，最大值(max)。也可以往盒图里面加入平均值(mean)。https://www.cnblogs.com/space-place/p/7643480.html  \n",
    "由于现实数据中总是存在各式各样地“脏数据”，也成为“离群点”，于是为了不因这些少数的离群数据导致整体特征的偏移，将这些离群点单独汇出，而盒图中的胡须的两级修改成最小观测值与最大观测值。这里有个经验，就是最大(最小)观测值设置为与四分位数值间距离为1.5个IQR(中间四分位数极差)。IQR = Q3-Q1，即上四分位数与下四分位数之间的差，也就是盒子的长度。所以最大值是去除掉离群点后的最大值，最大值上面的点认为是离群点。  \n",
    "不难得出，cm位置（即中场球员）身价明显更高。\n"
   ]
  },
  {
   "cell_type": "markdown",
   "metadata": {},
   "source": [
    "b.最佳位置得分与球员身价散点图分布"
   ]
  },
  {
   "cell_type": "code",
   "execution_count": 71,
   "metadata": {},
   "outputs": [
    {
     "data": {
      "text/plain": [
       "<matplotlib.axes._subplots.AxesSubplot at 0x1a1d6f4278>"
      ]
     },
     "execution_count": 71,
     "metadata": {},
     "output_type": "execute_result"
    },
    {
     "data": {
      "image/png": "[encoded data removed]",
      "text/plain": [
       "<Figure size 432x288 with 1 Axes>"
      ]
     },
     "metadata": {
      "needs_background": "light"
     },
     "output_type": "display_data"
    }
   ],
   "source": [
    "# best_pos_score 散点图\n",
    "var = 'best_pos_score'\n",
    "data = pd.concat([data_train['y'], data_train[var]], axis=1)\n",
    "data.plot.scatter(x=var, y=\"y\", ylim=(0, 5000))"
   ]
  },
  {
   "cell_type": "markdown",
   "metadata": {},
   "source": [
    "很明显，随着球员能力值的提升，身价也在提高。"
   ]
  },
  {
   "cell_type": "markdown",
   "metadata": {},
   "source": [
    "c.年龄与身价散点图分布"
   ]
  },
  {
   "cell_type": "code",
   "execution_count": 74,
   "metadata": {},
   "outputs": [
    {
     "data": {
      "text/plain": [
       "<matplotlib.axes._subplots.AxesSubplot at 0x1a1cd752e8>"
      ]
     },
     "execution_count": 74,
     "metadata": {},
     "output_type": "execute_result"
    },
    {
     "data": {
      "image/png": "[encoded data removed]",
      "text/plain": [
       "<Figure size 432x288 with 1 Axes>"
      ]
     },
     "metadata": {
      "needs_background": "light"
     },
     "output_type": "display_data"
    }
   ],
   "source": [
    "# age 散点图\n",
    "data = pd.concat([data_train['y'], data_train['age']], axis=1)\n",
    "data.plot.scatter(x='age', y=\"y\", ylim=(0, 5000))"
   ]
  },
  {
   "cell_type": "markdown",
   "metadata": {},
   "source": [
    "从以上散点图貌似能够得到年龄与身价没有关系，别急，我们继续往下看。"
   ]
  },
  {
   "cell_type": "markdown",
   "metadata": {},
   "source": [
    "d.能力值、年龄与身价分布"
   ]
  },
  {
   "cell_type": "code",
   "execution_count": 75,
   "metadata": {},
   "outputs": [
    {
     "data": {
      "text/plain": [
       "<seaborn.axisgrid.FacetGrid at 0x1a1cbfbfd0>"
      ]
     },
     "execution_count": 75,
     "metadata": {},
     "output_type": "execute_result"
    },
    {
     "data": {
      "image/png": "[encoded data removed]",
      "text/plain": [
       "<Figure size 418.125x360 with 1 Axes>"
      ]
     },
     "metadata": {
      "needs_background": "light"
     },
     "output_type": "display_data"
    }
   ],
   "source": [
    "sns.relplot(x='best_pos_score', y='y', hue='age', data=data_train)"
   ]
  },
  {
   "cell_type": "markdown",
   "metadata": {},
   "source": [
    "在二维图中，可以通过第三个变量给点着色，从而将第三个维度添加到图中。很明细可以得到，年龄与能力值联合影响着身价。随着能力值升高，身价也在变高，但是，能力值变高，年龄也变大后，身价有一定的降低。"
   ]
  },
  {
   "cell_type": "code",
   "execution_count": null,
   "metadata": {},
   "outputs": [],
   "source": []
  }
 ],
 "metadata": {
  "kernelspec": {
   "display_name": "Python 3",
   "language": "python",
   "name": "python3"
  },
  "language_info": {
   "codemirror_mode": {
    "name": "ipython",
    "version": 3
   },
   "file_extension": ".py",
   "mimetype": "text/x-python",
   "name": "python",
   "nbconvert_exporter": "python",
   "pygments_lexer": "ipython3",
   "version": "3.7.0"
  }
 },
 "nbformat": 4,
 "nbformat_minor": 2
}
